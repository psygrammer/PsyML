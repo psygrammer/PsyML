{
 "cells": [
  {
   "cell_type": "markdown",
   "metadata": {
    "deletable": true,
    "editable": true
   },
   "source": [
    "# 03. Wrangling Spike Trains"
   ]
  },
  {
   "cell_type": "markdown",
   "metadata": {
    "deletable": true,
    "editable": true
   },
   "source": [
    "* 싸이그래머 / 싸이ML : 파이뉴로 [1]\n",
    "* 김무성"
   ]
  },
  {
   "cell_type": "code",
   "execution_count": 1,
   "metadata": {
    "collapsed": false,
    "deletable": true,
    "editable": true
   },
   "outputs": [
    {
     "data": {
      "text/plain": [
       "[0, 0, 0, 0, 0, 0, 0, 0, 0, 1, 0, 1, 0, 1, 0, 0, 0, 1, 0, 0, 0]"
      ]
     },
     "execution_count": 1,
     "metadata": {},
     "output_type": "execute_result"
    }
   ],
   "source": [
    "[0,0,0,0,0,0,0,0,0,1,0,1,0,1,0,0,0,1,0,0,0]"
   ]
  },
  {
   "cell_type": "code",
   "execution_count": 2,
   "metadata": {
    "collapsed": false,
    "deletable": true,
    "editable": true
   },
   "outputs": [
    {
     "data": {
      "text/plain": [
       "4"
      ]
     },
     "execution_count": 2,
     "metadata": {},
     "output_type": "execute_result"
    }
   ],
   "source": [
    "# Sum up the numbers in the vector\n"
   ]
  },
  {
   "cell_type": "code",
   "execution_count": 3,
   "metadata": {
    "collapsed": false,
    "deletable": true,
    "editable": true
   },
   "outputs": [
    {
     "data": {
      "text/plain": [
       "21"
      ]
     },
     "execution_count": 3,
     "metadata": {},
     "output_type": "execute_result"
    }
   ],
   "source": [
    "# Count the number of elements in the longest dimension of the vector\n"
   ]
  },
  {
   "cell_type": "code",
   "execution_count": 5,
   "metadata": {
    "collapsed": false,
    "deletable": true,
    "editable": true
   },
   "outputs": [
    {
     "data": {
      "text/plain": [
       "[0, 1, 2, 3, 4, 5, 6, 7, 8, 9, 10, 11, 12, 13, 14, 15, 16, 17, 18, 19, 20]"
      ]
     },
     "execution_count": 5,
     "metadata": {},
     "output_type": "execute_result"
    }
   ],
   "source": [
    "# Create a list of 21 successive integers representing time and align it with the 21 neuron states\n"
   ]
  },
  {
   "cell_type": "code",
   "execution_count": 6,
   "metadata": {
    "collapsed": true,
    "deletable": true,
    "editable": true
   },
   "outputs": [],
   "source": [
    "# Assign data to variable spikeTrain\n"
   ]
  },
  {
   "cell_type": "code",
   "execution_count": 7,
   "metadata": {
    "collapsed": false,
    "deletable": true,
    "editable": true
   },
   "outputs": [
    {
     "data": {
      "text/plain": [
       "0"
      ]
     },
     "execution_count": 7,
     "metadata": {},
     "output_type": "execute_result"
    }
   ],
   "source": [
    "# Output the contents of variable spikeTrain at the position corresponding to t = 5\n"
   ]
  },
  {
   "cell_type": "code",
   "execution_count": 8,
   "metadata": {
    "collapsed": false,
    "deletable": true,
    "editable": true
   },
   "outputs": [
    {
     "data": {
      "text/plain": [
       "[0, 0, 0, 0, 1, 0, 1, 0, 1, 0, 0, 0, 1, 0, 0, 0]"
      ]
     },
     "execution_count": 8,
     "metadata": {},
     "output_type": "execute_result"
    }
   ],
   "source": [
    "# Output all elements of spikeTrain after the position corresponding to t = 5\n"
   ]
  },
  {
   "cell_type": "code",
   "execution_count": 9,
   "metadata": {
    "collapsed": false,
    "deletable": true,
    "editable": true
   },
   "outputs": [
    {
     "data": {
      "text/plain": [
       "4"
      ]
     },
     "execution_count": 9,
     "metadata": {},
     "output_type": "execute_result"
    }
   ],
   "source": [
    "# Find the  rst value in the elements of spikeTrain that matches 1\n",
    "spikeTrain[5:].index(1)"
   ]
  },
  {
   "cell_type": "code",
   "execution_count": 10,
   "metadata": {
    "collapsed": false,
    "deletable": true,
    "editable": true
   },
   "outputs": [
    {
     "data": {
      "text/plain": [
       "4"
      ]
     },
     "execution_count": 10,
     "metadata": {},
     "output_type": "execute_result"
    }
   ],
   "source": [
    "# Assign values to variables, then pass those to the function to avoid hard-coding\n",
    "lightOnsetTime = 5\n",
    "spikeValue = 1\n",
    "spikeTrain[lightOnsetTime:].index(spikeValue)"
   ]
  },
  {
   "cell_type": "code",
   "execution_count": 11,
   "metadata": {
    "collapsed": false,
    "deletable": true,
    "editable": true
   },
   "outputs": [
    {
     "name": "stdout",
     "output_type": "stream",
     "text": [
      "4\n"
     ]
    }
   ],
   "source": [
    "# Calculate latency to  rst spike and assign it to a variable with meaningful name\n"
   ]
  },
  {
   "cell_type": "code",
   "execution_count": 12,
   "metadata": {
    "collapsed": false,
    "deletable": true,
    "editable": true
   },
   "outputs": [
    {
     "name": "stdout",
     "output_type": "stream",
     "text": [
      "[9, 11, 13, 17]\n"
     ]
    }
   ],
   "source": [
    "# Find and then output the times at which the neuron spikes\n"
   ]
  },
  {
   "cell_type": "code",
   "execution_count": 13,
   "metadata": {
    "collapsed": true,
    "deletable": true,
    "editable": true
   },
   "outputs": [],
   "source": [
    "# Import library of plotting functions\n",
    "import matplotlib.pyplot as plt"
   ]
  },
  {
   "cell_type": "code",
   "execution_count": 14,
   "metadata": {
    "collapsed": false,
    "deletable": true,
    "editable": true
   },
   "outputs": [
    {
     "data": {
      "text/plain": [
       "<matplotlib.figure.Figure at 0x7f5a2b0ca9e8>"
      ]
     },
     "metadata": {},
     "output_type": "display_data"
    }
   ],
   "source": [
    "# Open figure\n"
   ]
  },
  {
   "cell_type": "code",
   "execution_count": 15,
   "metadata": {
    "collapsed": false,
    "deletable": true,
    "editable": true
   },
   "outputs": [
    {
     "data": {
      "image/png": "[encoded data removed]",
      "text/plain": [
       "<matplotlib.figure.Figure at 0x7f5a2b0da128>"
      ]
     },
     "metadata": {},
     "output_type": "display_data"
    }
   ],
   "source": [
    "# Place a subplot (or axes) into the figure\n"
   ]
  },
  {
   "cell_type": "code",
   "execution_count": 16,
   "metadata": {
    "collapsed": false,
    "deletable": true,
    "editable": true
   },
   "outputs": [
    {
     "data": {
      "image/png": "[encoded data removed]",
      "text/plain": [
       "<matplotlib.figure.Figure at 0x7f5a2905bba8>"
      ]
     },
     "metadata": {},
     "output_type": "display_data"
    }
   ],
   "source": [
    "# Plot vertical lines at the times when a spike occurred, then show the figure\n"
   ]
  },
  {
   "cell_type": "code",
   "execution_count": 21,
   "metadata": {
    "collapsed": false,
    "deletable": true,
    "editable": true
   },
   "outputs": [
    {
     "data": {
      "text/plain": [
       "<matplotlib.patches.Polygon at 0x7f5a28eb7f98>"
      ]
     },
     "execution_count": 21,
     "metadata": {},
     "output_type": "execute_result"
    },
    {
     "data": {
      "image/png": "[encoded data removed]",
      "text/plain": [
       "<matplotlib.figure.Figure at 0x7f5a2905bb70>"
      ]
     },
     "metadata": {},
     "output_type": "display_data"
    }
   ],
   "source": [
    "# Add a shaded green rectangle from times 5 to 14\n"
   ]
  },
  {
   "cell_type": "code",
   "execution_count": 22,
   "metadata": {
    "collapsed": false,
    "deletable": true,
    "editable": true
   },
   "outputs": [
    {
     "data": {
      "text/plain": [
       "(0, 20)"
      ]
     },
     "execution_count": 22,
     "metadata": {},
     "output_type": "execute_result"
    },
    {
     "data": {
      "image/png": "[encoded data removed]",
      "text/plain": [
       "<matplotlib.figure.Figure at 0x7f5a28f0fac8>"
      ]
     },
     "metadata": {},
     "output_type": "display_data"
    }
   ],
   "source": [
    "# Setting the range of the x-axis to include the entire time interval of interest\n",
    "plt.xlim([0,20])"
   ]
  },
  {
   "cell_type": "code",
   "execution_count": 23,
   "metadata": {
    "collapsed": false,
    "deletable": true,
    "editable": true
   },
   "outputs": [
    {
     "data": {
      "text/plain": [
       "<matplotlib.text.Text at 0x7f5a28ed1668>"
      ]
     },
     "execution_count": 23,
     "metadata": {},
     "output_type": "execute_result"
    },
    {
     "data": {
      "image/png": "[encoded data removed]",
      "text/plain": [
       "<matplotlib.figure.Figure at 0x7f5a28ef1780>"
      ]
     },
     "metadata": {},
     "output_type": "display_data"
    }
   ],
   "source": [
    "# Add meaningful axis and  gure labels, which is critical in science\n"
   ]
  },
  {
   "cell_type": "code",
   "execution_count": 26,
   "metadata": {
    "collapsed": false,
    "deletable": true,
    "editable": true
   },
   "outputs": [
    {
     "data": {
      "image/png": "[encoded data removed]",
      "text/plain": [
       "<matplotlib.figure.Figure at 0x7f5a28e29a58>"
      ]
     },
     "metadata": {},
     "output_type": "display_data"
    }
   ],
   "source": [
    "# -- Full code\n",
    "\n"
   ]
  },
  {
   "cell_type": "code",
   "execution_count": 27,
   "metadata": {
    "collapsed": true,
    "deletable": true,
    "editable": true
   },
   "outputs": [],
   "source": [
    "# Representing the ten spiketrains in the respective formats\n",
    "tenSpikeTrains = [\n",
    "    [0,0,0,0,0,0,0,0,0,1,0,1,0,1,0,0,0,1,0,0,0],\n",
    "    [0,0,0,0,0,0,0,0,1,1,0,0,0,1,0,0,0,1,0,0,0],\n",
    "    [0,1,0,0,0,0,0,0,0,0,1,0,0,1,0,0,0,0,0,1,0],\n",
    "    [0,0,0,0,0,0,0,0,1,1,0,1,0,0,0,0,0,0,1,0,0],\n",
    "    [0,0,0,0,0,0,0,0,0,1,0,0,1,0,0,0,0,0,0,0,0],\n",
    "    [0,0,0,0,0,0,0,0,0,0,1,1,0,0,0,1,0,0,0,1,0],\n",
    "    [0,0,0,0,0,0,0,0,1,1,1,0,0,1,1,0,0,1,1,0,0],\n",
    "    [1,0,0,0,0,0,0,0,0,0,1,1,0,0,0,0,1,0,0,0,0],\n",
    "    [0,0,0,0,0,0,0,0,1,1,0,0,1,1,0,0,1,1,0,0,0],\n",
    "    [0,0,0,0,0,0,1,0,0,1,0,1,0,0,0,0,0,1,1,0,0]]"
   ]
  },
  {
   "cell_type": "code",
   "execution_count": 28,
   "metadata": {
    "collapsed": false,
    "deletable": true,
    "editable": true
   },
   "outputs": [
    {
     "data": {
      "text/plain": [
       "[0, 0, 0, 0, 0, 0, 0, 0, 0, 1, 0, 1, 0, 1, 0, 0, 0, 1, 0, 0, 0]"
      ]
     },
     "execution_count": 28,
     "metadata": {},
     "output_type": "execute_result"
    }
   ],
   "source": [
    "# Return the contents of the  rst spike train\n"
   ]
  },
  {
   "cell_type": "code",
   "execution_count": 29,
   "metadata": {
    "collapsed": false,
    "deletable": true,
    "editable": true
   },
   "outputs": [
    {
     "data": {
      "text/plain": [
       "10"
      ]
     },
     "execution_count": 29,
     "metadata": {},
     "output_type": "execute_result"
    }
   ],
   "source": [
    "# How many elements does the variable tenSpikeTrains have?\n"
   ]
  },
  {
   "cell_type": "code",
   "execution_count": 50,
   "metadata": {
    "collapsed": false,
    "deletable": true,
    "editable": true
   },
   "outputs": [
    {
     "data": {
      "image/png": "[encoded data removed]",
      "text/plain": [
       "<matplotlib.figure.Figure at 0x7f5a28b7f3c8>"
      ]
     },
     "metadata": {},
     "output_type": "display_data"
    }
   ],
   "source": [
    "# In order to make a raster plot for the data from *all* the trials, \n",
    "# we use a similar approach we used for plotting the data from a single trial, \n",
    "# except we cycle through each list in the list. \n",
    "# To do this, we will use a for loop.\n",
    "\n"
   ]
  },
  {
   "cell_type": "code",
   "execution_count": 52,
   "metadata": {
    "collapsed": false,
    "deletable": true,
    "editable": true
   },
   "outputs": [
    {
     "data": {
      "image/png": "[encoded data removed]",
      "text/plain": [
       "<matplotlib.figure.Figure at 0x7f5a28e41b70>"
      ]
     },
     "metadata": {},
     "output_type": "display_data"
    }
   ],
   "source": [
    "# Align the yticks to be in the middle of each row, (x+1) sets  rst trial to 1. \n",
    "# Set the label axis to the top so that green rec- tangle doesn’t cover the axis.\n",
    "\n",
    "# - Pseudocode\n",
    "              \n",
    "# Create figure and specify subplot\n",
    "# Draw the stimulus presentation area green\n",
    "# For each of the ten trials\n",
    "# Extract the spike times from the spike train variables\n",
    "# Plot each row in the raster plot as vertical lines\n",
    "# Set the x-axis limits\n",
    "# Set the y-axis limits\n",
    "# Set the title\n",
    "# Set the x-axis label\n",
    "# Set the y-axis label\n",
    "\n"
   ]
  },
  {
   "cell_type": "code",
   "execution_count": 53,
   "metadata": {
    "collapsed": false,
    "deletable": true,
    "editable": true
   },
   "outputs": [
    {
     "data": {
      "image/png": "[encoded data removed]",
      "text/plain": [
       "<matplotlib.figure.Figure at 0x7f5a28aefa90>"
      ]
     },
     "metadata": {},
     "output_type": "display_data"
    }
   ],
   "source": [
    "# Create the figure window using plt (originally imported via matplotlib) \n",
    "# Create the first of 2 “subplots.”\n",
    "fig=plt.figure()\n",
    "ax=plt.subplot(2,1,1)"
   ]
  },
  {
   "cell_type": "code",
   "execution_count": 54,
   "metadata": {
    "collapsed": false,
    "deletable": true,
    "editable": true
   },
   "outputs": [
    {
     "data": {
      "text/plain": [
       "([<matplotlib.axis.YTick at 0x7f5a28b64940>,\n",
       "  <matplotlib.axis.YTick at 0x7f5a28b47a58>,\n",
       "  <matplotlib.axis.YTick at 0x7f5a28b3ca58>,\n",
       "  <matplotlib.axis.YTick at 0x7f5a28d59b00>,\n",
       "  <matplotlib.axis.YTick at 0x7f5a28d45550>,\n",
       "  <matplotlib.axis.YTick at 0x7f5a28d45f60>,\n",
       "  <matplotlib.axis.YTick at 0x7f5a28d5b208>,\n",
       "  <matplotlib.axis.YTick at 0x7f5a28d44400>,\n",
       "  <matplotlib.axis.YTick at 0x7f5a28d44e10>,\n",
       "  <matplotlib.axis.YTick at 0x7f5a28d5c860>],\n",
       " <a list of 10 Text yticklabel objects>)"
      ]
     },
     "execution_count": 54,
     "metadata": {},
     "output_type": "execute_result"
    },
    {
     "data": {
      "image/png": "[encoded data removed]",
      "text/plain": [
       "<matplotlib.figure.Figure at 0x7f5a28b18668>"
      ]
     },
     "metadata": {},
     "output_type": "display_data"
    }
   ],
   "source": [
    "# We next create code for plotting \n",
    "# (1) a subplot of spike rasters and \n",
    "# (2) a PSTH based on that spiking activity.\n",
    "\n",
    "# - Pseudocode\n",
    "\n",
    "# Looping through trial 0,1,...,9\n",
    "#   Get the index (time) of each spike and append to allSpikeTimes Plot vertical lines for each trial\n",
    "#   Add the vertically spanning green box\n",
    "# Set the limits of the y-axis to 0 and 10\n",
    "# Add a title, a y-axis label, and an x-axis label to this subplot \n",
    "# #1 Customize the labels of the yticks\n",
    "\n"
   ]
  },
  {
   "cell_type": "code",
   "execution_count": 56,
   "metadata": {
    "collapsed": false,
    "deletable": true,
    "editable": true
   },
   "outputs": [
    {
     "data": {
      "image/png": "[encoded data removed]",
      "text/plain": [
       "<matplotlib.figure.Figure at 0x7f5a28a7ddd8>"
      ]
     },
     "metadata": {},
     "output_type": "display_data"
    }
   ],
   "source": [
    "# - Pseudocode \n",
    "\n",
    "# Now for the PSTH. We create our second subplot.\n",
    "# Add the green background during stimulus time.\n",
    "# Plot the bar plot #1 format bar (x-values, y-values, bar width) \n",
    "# Add labels to the x- and y-axes of this subplot\n",
    "# Save the figure\n",
    "# Let’s take a gander.\n"
   ]
  },
  {
   "cell_type": "code",
   "execution_count": 57,
   "metadata": {
    "collapsed": false,
    "deletable": true,
    "editable": true
   },
   "outputs": [
    {
     "data": {
      "text/plain": [
       "<matplotlib.text.Text at 0x7f5a28e02b38>"
      ]
     },
     "execution_count": 57,
     "metadata": {},
     "output_type": "execute_result"
    },
    {
     "data": {
      "image/png": "[encoded data removed]",
      "text/plain": [
       "<matplotlib.figure.Figure at 0x7f5a28a9f240>"
      ]
     },
     "metadata": {},
     "output_type": "display_data"
    }
   ],
   "source": [
    "# - Putting it all together:\n",
    "# The Python way for Figure 3.7. \n",
    "\n",
    "# - Pseudocode\n",
    "\n",
    "# § Begin English explanation of code for Fig. 3.7\n",
    "# Create the  gure area\n",
    "# Specify that there are 2 rows and 1 column, and we’ll start with the  rst\n",
    "# Plot the vertical ticks lines\n",
    "# Shade the area green to indicate the time of light stimulation\n",
    "# Set the lower and upper bounds of the y-axis\n",
    "# Set the title of the plot to 'this neuron still spikes to repeated trials of the same stimulus' Set the x-axis label to 'time (in milliseconds)'\n",
    "# Set the y-axis label to 'trial number'\n",
    "# Set the y-axis tick locations and labels\n",
    "# Specify that we’re making a subplot layout with 2 rows, 1 column, plotting in the 2nd row Shade the stimulus area green\n",
    "# Make a histogram of all the spike times with bins from 0 to 20\n",
    "# Set the x-axis and y-axis labels\n",
    "# § End English explanation of Python code for Fig. 3.7\n",
    "\n"
   ]
  },
  {
   "cell_type": "code",
   "execution_count": 58,
   "metadata": {
    "collapsed": false,
    "deletable": true,
    "editable": true
   },
   "outputs": [
    {
     "data": {
      "text/plain": [
       "<matplotlib.lines.Line2D at 0x7f5a2901c0f0>"
      ]
     },
     "execution_count": 58,
     "metadata": {},
     "output_type": "execute_result"
    },
    {
     "data": {
      "image/png": "[encoded data removed]",
      "text/plain": [
       "<matplotlib.figure.Figure at 0x7f5a28a774a8>"
      ]
     },
     "metadata": {},
     "output_type": "display_data"
    }
   ],
   "source": [
    "# Let’s draw a horizontal dashed black line \n",
    "# (note the linestyle which can make it dotted or dashed, among other line types, \n",
    "# and the color = “k” to de note black, we could have used “r” for red, or “g” for green, \n",
    "# or “b” for blue) at the 0.5 spike probability threshold. \n",
    "# Had we wanted a vertical line, we could have used the Python function plt.axvline.\n",
    "\n",
    "# - Pseudocode\n",
    "\n",
    "# Create the figure\n",
    "# Plot bar graph of the mean spikes\n",
    "# Add horizontal line as a spike threshold\n"
   ]
  },
  {
   "cell_type": "code",
   "execution_count": 63,
   "metadata": {
    "collapsed": false,
    "deletable": true,
    "editable": true
   },
   "outputs": [
    {
     "data": {
      "image/png": "[encoded data removed]",
      "text/plain": [
       "<matplotlib.figure.Figure at 0x7f5a290b34a8>"
      ]
     },
     "metadata": {},
     "output_type": "display_data"
    }
   ],
   "source": [
    "# § Begin English explanation of code for Fig. 3.8\n",
    "# Create the  gure plotting area\n",
    "# Shade the area green to indicate the time of light stimulation\n",
    "# Plot a bar plot of the mean of tenSpikeTrains\n",
    "# Plot a dashed black horizontal line at y = 0.5\n",
    "# Set the title to “spike probability given 10 stimulus trials”\n",
    "# Set the x-axis label to “time (in milliseconds)”\n",
    "# Set the y-axis label to “probability of spike occurrences at this time” \n",
    "# Save the figure to “Fig. 3.8 normalized PSTH with cutoff.png”\n",
    "# § End English explanation of code for Fig. 3.8\n",
    "\n",
    "# The Python way for Figure 3.8\n",
    "\n",
    "# End Python code for Figure 3.8"
   ]
  },
  {
   "cell_type": "code",
   "execution_count": 64,
   "metadata": {
    "collapsed": true,
    "deletable": true,
    "editable": true
   },
   "outputs": [],
   "source": [
    "# Let’s load in the Python dictionary called tenIntensities.pkl\n",
    "tenIntensities_data_path = \"../data/tenIntensities.pkl\""
   ]
  },
  {
   "cell_type": "code",
   "execution_count": 70,
   "metadata": {
    "collapsed": false,
    "deletable": true,
    "editable": true
   },
   "outputs": [
    {
     "data": {
      "text/plain": [
       "['3_intensity',\n",
       " '5_intensity',\n",
       " '1_intensity',\n",
       " '2_intensity',\n",
       " '0_intensity',\n",
       " '8_intensity',\n",
       " '6_intensity',\n",
       " '4_intensity',\n",
       " '7_intensity',\n",
       " '9_intensity']"
      ]
     },
     "execution_count": 70,
     "metadata": {},
     "output_type": "execute_result"
    }
   ],
   "source": [
    "list(tenIntensities.keys())"
   ]
  },
  {
   "cell_type": "code",
   "execution_count": 72,
   "metadata": {
    "collapsed": false,
    "deletable": true,
    "editable": true
   },
   "outputs": [
    {
     "data": {
      "text/plain": [
       "[[11.0, 10.0, 33.0, 32.0],\n",
       " [4.0, 30.0, 32.0, 35.0],\n",
       " [17.0, 11.0, 30.0, 20.0, 34.0],\n",
       " [22.0, 34.0],\n",
       " [7.0, 20.0, 27.0, 32.0],\n",
       " [25.0, 29.0, 13.0, 35.0, 33.0],\n",
       " [32.0, 20.0, 24.0, 30.0],\n",
       " [31.0, 19.0, 29.0, 33.0],\n",
       " [15.0, 13.0, 35.0, 38.0],\n",
       " [25.0, 24.0, 31.0, 31.0]]"
      ]
     },
     "execution_count": 72,
     "metadata": {},
     "output_type": "execute_result"
    }
   ],
   "source": [
    "tenIntensities['4_intensity']"
   ]
  },
  {
   "cell_type": "code",
   "execution_count": 74,
   "metadata": {
    "collapsed": false,
    "deletable": true,
    "editable": true
   },
   "outputs": [
    {
     "data": {
      "image/png": "[encoded data removed]",
      "text/plain": [
       "<matplotlib.figure.Figure at 0x7f5a2898cb70>"
      ]
     },
     "metadata": {},
     "output_type": "display_data"
    }
   ],
   "source": [
    "# In the Python code, we make use of the numpy function histogram. \n",
    "# It calculates the number of occurrences of val- ues over a given range. \n",
    "# It then returns the count of how many values occurred within each bin, \n",
    "# and also returns the bins used, assigning these to the variables preceding the equals sign \n",
    "# (and it doesn’t plot anything). \n",
    "# We use the variables obtained with np.histogram to make our histogram below with the function bar. \n",
    "# In the code below we also give numpy a nickname, “np” which lets us refer to packages \n",
    "# in a shorthand manner, e.g.: np.histogram():\n",
    "\n",
    "# - Pseudocode\n",
    "# § Begin English explanation of code for Fig. 3.9 \n",
    "# Create new figure\n",
    "# Declare an empty dictionary nbar\n",
    "# For each key in the dictionary tenIntensities:\n",
    " \n",
    "# first column, raster plots for each intensity of the light stimulus. \n",
    "# Plot in subplot corresponding to each intensity (an example key is: ‘7_intensity’, \n",
    "# so key[0] is the 0th value of the string ‘7_intensity’, which is ‘7’, and  oat(‘7’) equals 7.0, \n",
    "# We take that value times two and add one since subplot indices count by row. \n",
    "# For each trial this relies on there being 10 trials per stimulus intensity. \n",
    "# Plot vertical lines corresponding to the spike times\n",
    "\n",
    "# Format the raster plots: \n",
    "# Set the x- and y-axis limits. \n",
    "# Set the y-axis label to the intensity, use ‘\\n’ as a carriage return, label the trial number,\n",
    "# italic and fontsize, set the yticks fontsize. \n",
    "# Add the green box, use the alpha value so that the transparency scales with intensity. \n",
    "# If the intensity is less than 9, that is, if we are not plotting at the bottom. Do not label the x-axis.\n",
    "\n",
    "# Else, that is, if the intensity is 9. Label the x-axis as 'time in milliseconds'\n",
    "\n",
    "# If the intensity is 0, that is, if we are plotting at the top. \n",
    "# Set the title to 'raster plot of spiking for each intensity' and font size to 10. \n",
    "\n",
    "# #1 perform list comprehension to unpack list\n",
    "\n",
    "# In the second column, plot the PSTHs for each intensity of the light stimulus. \n",
    "# Plot the subplot in the second column, with each increasing intensity moving down a row. \n",
    "# Plot the green box and set the alpha value to correspond to the intensity of the stimulus. \n",
    "# Extract all the spike times for a stimulus intensity. \n",
    "# Get nOut, a histogram array binned by the value bins. \n",
    "# Add the values in nOut/10. to the dictionary nbar with key  oat(key([0])). \n",
    "# Plot the PSTH with bar function, calling all the bins except the last bin, \n",
    "# and scaling nOut by the number of trials (10) .\n",
    "\n",
    "# Format the PSTHs: Set the x-axis and y-axis limits to [0,20] and [0, 1], \n",
    "# respectively. Set the y-axis font size. Set the y-label to 'spike prob, \n",
    "# make it italic, set the fontsize to 6. \n",
    "# If we are in the  rst row (at the top). \n",
    "# Set the title to 'PSTH for each intensity', with a fontsize of 10\n",
    "\n",
    "# If we are in any plot above the bottom plot, turn of the xlabel and xticks. \n",
    "# Else if we are at the bottom plot, set the xlabel to 'time in milliseconds' \n",
    "\n",
    "# Save the figure\n",
    "\n",
    "# § End English explanation of code for Fig. 3.9\n",
    "\n"
   ]
  },
  {
   "cell_type": "code",
   "execution_count": 79,
   "metadata": {
    "collapsed": false,
    "deletable": true,
    "editable": true
   },
   "outputs": [],
   "source": [
    "# Our ability to measure latency to first spike here becomes quite dif cult. \n",
    "# We can qualitatively say that higher-intensity stimuli cause shorter latency responses. \n",
    "# We will leave any swings at statistical inference to later chapters, \n",
    "# and relish for now in our ability to make a colorful plots from the spike data.\n",
    "\n",
    "# Begin the Python way for Figure 3.10\n",
    "\n",
    "\n",
    "# End Python way for Figure 3.10"
   ]
  },
  {
   "cell_type": "markdown",
   "metadata": {
    "deletable": true,
    "editable": true
   },
   "source": [
    "# 참고 \n",
    "* [1] Neural Data Science: A Primer with MATLAB and Python - https://www.amazon.com/Neural-Data-Science-MATLAB®-PythonTM/dp/0128040432/\n",
    "* [2] Chapter Files - https://www.elsevier.com/books-and-journals/book-companion/9780128040430/chapter-files#Chapter%20Files"
   ]
  }
 ],
 "metadata": {
  "kernelspec": {
   "display_name": "Python 3",
   "language": "python",
   "name": "python3"
  },
  "language_info": {
   "codemirror_mode": {
    "name": "ipython",
    "version": 3
   },
   "file_extension": ".py",
   "mimetype": "text/x-python",
   "name": "python",
   "nbconvert_exporter": "python",
   "pygments_lexer": "ipython3",
   "version": "3.5.2"
  }
 },
 "nbformat": 4,
 "nbformat_minor": 2
}
