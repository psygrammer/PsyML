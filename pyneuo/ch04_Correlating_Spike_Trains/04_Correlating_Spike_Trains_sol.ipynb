{
 "cells": [
  {
   "cell_type": "markdown",
   "metadata": {
    "deletable": true,
    "editable": true
   },
   "source": [
    "# 04. Correlating Spike Trains"
   ]
  },
  {
   "cell_type": "markdown",
   "metadata": {
    "deletable": true,
    "editable": true
   },
   "source": [
    "* 싸이그래머 / 싸이ML : 파이뉴로 [1]\n",
    "* 김무성"
   ]
  },
  {
   "cell_type": "markdown",
   "metadata": {
    "deletable": true,
    "editable": true
   },
   "source": [
    "<img src=\"figures/cap4.1.png\" width=600>"
   ]
  },
  {
   "cell_type": "markdown",
   "metadata": {
    "deletable": true,
    "editable": true
   },
   "source": [
    "## The canonical data analysis cascade ( five principal steps in code)"
   ]
  },
  {
   "cell_type": "markdown",
   "metadata": {
    "deletable": true,
    "editable": true
   },
   "source": [
    "As far as we can tell, all sensory systems (with the exception of olfaction, which is special) follow the following  ve steps, and there are principled reasons for this (Fig. 4.1).\n",
    "* <b>Step 1: Transduction</b>\n",
    "    - Every sensory system has to convert some kind of physical energy in the environment into the common currency of the brain.\n",
    "    - The code equivalent of this is to write dedicated “loader” code.\n",
    "        - Its purpose is to load data from whatever format it was logged in—each physiological data recording system creates its own data  les, e.g., .plx  les, .nev  les, .nex  les, .xls  les, and .txt  les are some popular formats. For you to be able to do anything with these in POM, they have to be converted into a format that POM can use  rst.\n",
    "\n",
    "* <b>Step 2: Filtering</b>\n",
    "    - Once a spike train reaches the cortex, it will be processed. \n",
    "    - Of course this raises the issue of how the thalamus knows what irrelevant information is before it has been analyzed by the cortex.\n",
    "    - The brain solves this in several ways, including an analysis for low-level salient features, such as fast motion or high contrast, and then feeds that information back to the thalamus—there are many recurrent feedback loops to  ne-tune the  ltering process.\n",
    "    - We strongly recommend to implement this step in code, for similar reasons.\n",
    "    -  This step can be called “cleaning,” “pruning,” or “filtering” of the data.\n",
    "* <b>Step 3: Formatting</b>\n",
    "    - The next step performed by the visual system is a categorical analysis of the data arriving from the thalamus. \n",
    "        - This step is performed by the early visual system, particularly V1. Here, the visual system determines the location and basic orientation of line segments (Hubel & Wiesel, 2004), and starts the process of determining what is foreground and what is background  gure (Craft, Schütze, Niebur, & Von Der Heydt, 2007). \n",
    "    -  Heuristically, this step can be understood as setting the stage for further analysis, not so much doing a lot of in depth analysis here already.\n",
    "    - Thus, we conceive of this step as “formatting” the data for further analysis.\n",
    "    - It is an absolutely critical step for data analysis.\n",
    "        - Once data are formatted properly, the rest of the analysis is usually rather straightforward.\n",
    "        - It might be unsettling to the beginner, but is not unusual to spend *most* of one’s time writing analysis code in this step, simply “formatting” the data.\n",
    "        - Once data structures are set up properly, the actual analysis often corresponds to something very simple, like “loop through all participants in these conditions, then compare their means.”\n",
    "* <b>Step 4: Computations</b>\n",
    "    - In the visual system, this step is implemented by extrastriate cortex—the cortical regions after striate cortex (or primary visual cortex) in the visual processing stream.\n",
    "    - Interestingly, whereas the previous steps have been done mostly in serial fashion, one after the other (the feedback to thalamus notwithstanding), this step is better referred to as steps (plural) because they <font color=\"red\">happen in parallel</font>, meaning that the signal might split into two or more copies so that multiple processes can occur on it simultaneously (Wallisch & Movshon, 2008).\n",
    "    - We recommend to do something similar in code to implement this step. Specifically, <font color=\"red\">we recommend to create as many parallel analysis streams</font> as there are analysis goals.\n",
    "* <b>Step 5: Output</b>\n",
    "    - This might come as a surprise to people living in the modern age, but the purpose of the visual system is not to provide fancy images for one’s viewing pleasure, but to improve the survivability of the organism. \n",
    "        - This is true for sensory systems in general. Perception is not an end in itself—unless it results in motor output, the outcomes of its calculations are irrelevant. \n",
    "        - Over time, the system has been optimized to provide more adaptive outputs. \n",
    "        - In primates, <font color=\"red\">the end result of the visual processing cascade in extrastriate areas is linked to motor cortex</font> in order to transform the visual input to real-world outputs and memory systems to store information (the results of the computations on the inputs). \n",
    "    - We will do the same here, in code. Specifically, we will hook up the outputs of step 4, e.g., 4a, 4b to corresponding outputs, i.e., 5a, 5b. This analogy is tight. \n",
    "    - There are three principal kinds of outputs from the computation steps\n",
    "        - Sometimes, we just want to output some numbers to the screen. \n",
    "        - Sometimes, the output will be a figure that visualizes the results of a computation. \n",
    "        - Usually, we also want to store the results so that we can load them in later without having to redo the entire analysis from scratch (this is particularly important as some analyses can take rather long).\n",
    "* In addition to these five steps implemented by sensory systems of the brain, we recommend adding a zeroth and a sixth step. \n",
    "    * The zeroth step is an <b>“initialization” step</b> \n",
    "    * Finally, in the spirit of making the code maintainable, and even runable a couple of months after writing it, we recommend writing a  le that corresponds to the sixth step, which is kind of a “wrapper” and <b>“readme”  file</b> that (if you wrote a  le for each of the  ve steps) calls the right  les with the right parameters in the right order and some kind of documentation of what is going on."
   ]
  },
  {
   "cell_type": "markdown",
   "metadata": {
    "deletable": true,
    "editable": true
   },
   "source": [
    "<img src=\"figures/cap4.2.png\" width=600 />"
   ]
  },
  {
   "cell_type": "markdown",
   "metadata": {
    "deletable": true,
    "editable": true
   },
   "source": [
    "## Snyder, Morais, Willis, and Smith (2015)\n",
    "* Snyder, A. C., Morais, M. J., Willis, C. M., & Smith, M. A. (2015). Global network in uences on local functional connectivity. Nature Neuroscience, 18(5), 736–743."
   ]
  },
  {
   "cell_type": "markdown",
   "metadata": {
    "deletable": true,
    "editable": true
   },
   "source": [
    "Without further ado, let’s jump into a full-blown data analysis project. Speci cally, we will recreate some of the analy- ses from Snyder, Morais, Willis, and Smith (2015) from scratch. This paper attempts to answer the question whether the spiking of individual neurons is in uenced by the activity of the network that they are embedded in. To do so, Snyder et al. recorded signals from a visual area with a 96 electrode array, splitting the signal from each electrode into a spike channel and a channel of analog signals, or local  eld potentials (LFPs) while the animals were shown oriented gratings. For the purposes of this chapter, we focus on the information from the spike channels. We will address the analysis of analog signals in frequency space in Chapter 5, Analog Signals.\n",
    "\n",
    "Thus, we will use 96 time series of spiking information as source data in this chapter. We already encountered one time series in Chapter 2, From 0 to 0.01 and Chapter 3, Wrangling Spikes Trains. As a general rule, much of the data in neuroscience will come in the form of time series. Prominent examples would be EEG, MEG, EMG, LFP, spike trains, participant responses, and the like, so knowing how to handle them is important.\n",
    "\n",
    "\n",
    "(구글 번역 :\n",
    "더 이상 고민하지 않고 본격적인 데이터 분석 프로젝트에 뛰어 들어 봅시다. 구체적으로 Snyder, Morais, Willis, Smith (2015)의 분석을 처음부터 다시 만들 것입니다. 이 논문은 개인 뉴런의 스파이크가 그들이 포함되어있는 네트워크의 활동에 의해 영향을 받는지 여부에 대한 질문에 대답하려고 시도한다. 그렇게하기 위해서 Snyder et al. 동물들이 배향 된 격자를 보여 주면서 각 전극으로부터의 신호를 스파이크 채널 및 아날로그 신호의 채널, 또는 로컬 엘 드 전위 (LFP)로 분할하는 96 전극 배열을 갖는 시각 영역으로부터의 기록 된 신호. 이 장의 목적을 위해 우리는 스파이크 채널의 정보에 중점을 둡니다. 5 장, 아날로그 신호에서 주파수 공간에서의 아날로그 신호 분석을 다룰 것입니다.\n",
    "\n",
    "따라서이 장에서는 원본 데이터로 96 시간 계열의 스파이 킹 정보를 사용합니다. 우리는 이미 2 장에서 하나의 시계열을 보았습니다. 0에서 0.01까지 그리고 3 장, 스파이크 열차를 논하십시오. 일반적으로 신경 과학의 많은 데이터는 시계열 형태로 나타날 것입니다. EEG, MEG, EMG, LFP, 스파이크 열차, 참여자 응답 등이 대표적인 예가 될 수 있으므로이를 처리하는 방법을 아는 것이 중요합니다.)"
   ]
  },
  {
   "cell_type": "markdown",
   "metadata": {
    "deletable": true,
    "editable": true
   },
   "source": [
    "-----------------------"
   ]
  },
  {
   "cell_type": "markdown",
   "metadata": {
    "deletable": true,
    "editable": true
   },
   "source": [
    "## spike count correlation"
   ]
  },
  {
   "cell_type": "markdown",
   "metadata": {
    "deletable": true,
    "editable": true
   },
   "source": [
    "As we have more than one time series (96 in fact) we can now look at the relationship between time series from differ- ent electrodes in order to calculate a quantity that is called the “spike count correlation.” We will explain the concept of spike count correlations and why they matter in detail later, but let’s  rst build up to that. It is time to get started.\n",
    "\n",
    "(구글 번역 :\n",
    "사실 우리는 하나 이상의 시계열 (96 개)이 있기 때문에 \"스파이크 수 상관 관계\"라고 불리는 양을 계산하기 위해 서로 다른 전극의 시계열 간의 관계를 볼 수 있습니다. 스파이크 카운트 상관 관계 및 왜 나중에 세부적으로 중요할까요? 이제 시작할 시간입니다.)"
   ]
  },
  {
   "cell_type": "markdown",
   "metadata": {
    "deletable": true,
    "editable": true
   },
   "source": [
    "### header "
   ]
  },
  {
   "cell_type": "code",
   "execution_count": 1,
   "metadata": {
    "collapsed": true,
    "deletable": true,
    "editable": true
   },
   "outputs": [],
   "source": [
    "#*************************************************************************************\n",
    "#This program recreates the spike count correlation analysis from Snyder et al. (2015)\n",
    "#It assumes that the data file from the recording array exists in the same\n",
    "#directory as the analysis file.\n",
    "#Name and email of code creator\n",
    "#V1: 06/16/2016: Steps 0-3\n",
    "#V2: 06/20/2016: Steps 4 and 5\n",
    "#V3: 06/21/2016: Adding parameters to step 0\n",
    "#*************************************************************************************"
   ]
  },
  {
   "cell_type": "markdown",
   "metadata": {
    "deletable": true,
    "editable": true
   },
   "source": [
    "### step 0: Initialization"
   ]
  },
  {
   "cell_type": "code",
   "execution_count": 2,
   "metadata": {
    "collapsed": true,
    "deletable": true,
    "editable": true
   },
   "outputs": [],
   "source": [
    "## 0. Python Init\n",
    "# For Python, we load the functions that we’ll be using and assign\n",
    "# some of them nicknames\n",
    "import scipy.io\n",
    "from collections import defaultdict\n",
    "import matplotlib.pyplot as plt\n",
    "import numpy as np\n",
    "import scipy.stats as sc\n",
    "numChannels = 96\n",
    "noiseCodes = [0,255]\n",
    "timeBase=np.arange(-.2,2.5,.01)\n",
    "gratingOn = 0\n",
    "gratingOff = 2"
   ]
  },
  {
   "cell_type": "markdown",
   "metadata": {
    "deletable": true,
    "editable": true
   },
   "source": [
    "### step 1, the loader"
   ]
  },
  {
   "cell_type": "code",
   "execution_count": 3,
   "metadata": {
    "collapsed": true,
    "deletable": true,
    "editable": true
   },
   "outputs": [],
   "source": [
    "# Pseudocode\n",
    "# 1: Loader. Load the data file"
   ]
  },
  {
   "cell_type": "code",
   "execution_count": 4,
   "metadata": {
    "collapsed": true,
    "deletable": true,
    "editable": true
   },
   "outputs": [],
   "source": [
    "arrayDATA_data_path = \"../data/arrayDATA.mat\""
   ]
  },
  {
   "cell_type": "code",
   "execution_count": 5,
   "metadata": {
    "collapsed": false,
    "deletable": true,
    "editable": true
   },
   "outputs": [],
   "source": [
    "matIn=scipy.io.loadmat(arrayDATA_data_path)"
   ]
  },
  {
   "cell_type": "code",
   "execution_count": 6,
   "metadata": {
    "collapsed": false,
    "deletable": true,
    "editable": true
   },
   "outputs": [
    {
     "name": "stdout",
     "output_type": "stream",
     "text": [
      "['__header__', '__version__', '__globals__', 'DATA']\n"
     ]
    }
   ],
   "source": [
    "print(list(matIn.keys()))"
   ]
  },
  {
   "cell_type": "code",
   "execution_count": 7,
   "metadata": {
    "collapsed": false,
    "deletable": true,
    "editable": true
   },
   "outputs": [
    {
     "data": {
      "text/plain": [
       "array([[ (array([[  20.        ,    1.        ,    0.62400001],\n",
       "       [  20.        ,    1.        ,    0.63      ],\n",
       "       [  20.        ,    3.        ,    0.65200001],\n",
       "       [  20.        ,    3.        ,    0.65899998],\n",
       "       [  20.        ,  255.        ,    0.68599999],\n",
       "       [  20.        ,    1.        ,    0.68900001],\n",
       "       [  20.        ,    1.        ,    0.71100003],\n",
       "       [  20.        ,  255.        ,    0.73100001],\n",
       "       [  20.        ,    3.        ,    0.74199998],\n",
       "       [  20.        ,    3.        ,    0.75700003],\n",
       "       [  20.        ,    2.        ,    0.764     ],\n",
       "       [  20.        ,    4.        ,    0.77899998],\n",
       "       [  20.        ,    2.        ,    0.78600001],\n",
       "       [  20.        ,    3.        ,    0.81199998],\n",
       "       [  20.        ,    1.        ,    0.82599998],\n",
       "       [  20.        ,    3.        ,    0.84799999],\n",
       "       [  20.        ,  255.        ,    0.85699999],\n",
       "       [  20.        ,    4.        ,    0.866     ],\n",
       "       [  20.        ,    1.        ,    0.87199998],\n",
       "       [  20.        ,    3.        ,    0.88300002],\n",
       "       [  20.        ,    3.        ,    0.898     ],\n",
       "       [  20.        ,    4.        ,    0.90899998],\n",
       "       [  20.        ,  255.        ,    0.926     ],\n",
       "       [  20.        ,    3.        ,    0.95099998],\n",
       "       [  20.        ,    1.        ,    0.96799999],\n",
       "       [  20.        ,  255.        ,    0.98100001],\n",
       "       [  20.        ,  255.        ,    0.99199998],\n",
       "       [  20.        ,  255.        ,    0.99599999],\n",
       "       [  20.        ,  255.        ,    1.005     ],\n",
       "       [  20.        ,    1.        ,    1.01900005],\n",
       "       [  20.        ,    1.        ,    1.02600002],\n",
       "       [  20.        ,    1.        ,    1.03400004],\n",
       "       [  20.        ,    1.        ,    1.06700003],\n",
       "       [  20.        ,  255.        ,    1.079     ],\n",
       "       [  20.        ,  255.        ,    1.09800005],\n",
       "       [  20.        ,    1.        ,    1.10800004],\n",
       "       [  20.        ,  255.        ,    1.11699998],\n",
       "       [  20.        ,    1.        ,    1.13      ],\n",
       "       [  20.        ,    1.        ,    1.17900002],\n",
       "       [  20.        ,    1.        ,    1.19099998],\n",
       "       [  20.        ,    1.        ,    1.20099998],\n",
       "       [  20.        ,    1.        ,    1.20500004],\n",
       "       [  20.        ,    1.        ,    1.20899999],\n",
       "       [  20.        ,  255.        ,    1.21399999],\n",
       "       [  20.        ,    1.        ,    1.22500002],\n",
       "       [  20.        ,    1.        ,    1.25399995],\n",
       "       [  20.        ,    1.        ,    1.25899994],\n",
       "       [  20.        ,    1.        ,    1.27199996],\n",
       "       [  20.        ,    1.        ,    1.27699995],\n",
       "       [  20.        ,    1.        ,    1.28900003],\n",
       "       [  20.        ,    1.        ,    1.29700005],\n",
       "       [  20.        ,  255.        ,    1.30299997],\n",
       "       [  20.        ,    1.        ,    1.32799995],\n",
       "       [  20.        ,    1.        ,    1.33399999],\n",
       "       [  20.        ,    1.        ,    1.35000002],\n",
       "       [  20.        ,    1.        ,    1.36399996],\n",
       "       [  20.        ,    1.        ,    1.37699997],\n",
       "       [  20.        ,    1.        ,    1.40199995],\n",
       "       [  20.        ,  255.        ,    1.41499996],\n",
       "       [  20.        ,    1.        ,    1.42700005],\n",
       "       [  20.        ,    1.        ,    1.45000005],\n",
       "       [  20.        ,  255.        ,    1.47000003],\n",
       "       [  20.        ,  255.        ,    1.47300005],\n",
       "       [  20.        ,    1.        ,    1.48899996],\n",
       "       [  20.        ,  255.        ,    1.50600004],\n",
       "       [  20.        ,    1.        ,    1.51199996],\n",
       "       [  20.        ,  255.        ,    1.51800001],\n",
       "       [  20.        ,    1.        ,    1.53299999],\n",
       "       [  20.        ,    1.        ,    1.55299997],\n",
       "       [  20.        ,  255.        ,    1.56799996],\n",
       "       [  20.        ,    1.        ,    1.59099996],\n",
       "       [  20.        ,    1.        ,    1.60000002],\n",
       "       [  20.        ,    1.        ,    1.60500002],\n",
       "       [  20.        ,  255.        ,    1.61000001],\n",
       "       [  20.        ,    1.        ,    1.61600006],\n",
       "       [  20.        ,    1.        ,    1.65999997],\n",
       "       [  20.        ,    1.        ,    1.66700006],\n",
       "       [  20.        ,    1.        ,    1.68200004],\n",
       "       [  20.        ,  255.        ,    1.68900001],\n",
       "       [  20.        ,    1.        ,    1.71899998],\n",
       "       [  20.        ,    1.        ,    1.72899997],\n",
       "       [  20.        ,    1.        ,    1.74399996],\n",
       "       [  20.        ,  255.        ,    1.75      ],\n",
       "       [  20.        ,    1.        ,    1.78799999],\n",
       "       [  20.        ,    1.        ,    1.81599998],\n",
       "       [  20.        ,    1.        ,    1.83399999],\n",
       "       [  20.        ,    1.        ,    1.84800005],\n",
       "       [  20.        ,    1.        ,    1.875     ],\n",
       "       [  20.        ,    1.        ,    1.89600003],\n",
       "       [  20.        ,    1.        ,    1.90400004],\n",
       "       [  20.        ,    1.        ,    1.91100001],\n",
       "       [  20.        ,    1.        ,    1.91299999],\n",
       "       [  20.        ,    3.        ,    1.92799997],\n",
       "       [  20.        ,    3.        ,    1.954     ],\n",
       "       [  20.        ,    1.        ,    1.96099997],\n",
       "       [  20.        ,    1.        ,    1.96800005],\n",
       "       [  20.        ,    3.        ,    1.97399998],\n",
       "       [  20.        ,    3.        ,    1.98000002],\n",
       "       [  20.        ,    1.        ,    1.99600005],\n",
       "       [  20.        ,    3.        ,    2.02399993],\n",
       "       [  42.        ,    1.        ,    2.42499995],\n",
       "       [  42.        ,    1.        ,    2.4519999 ],\n",
       "       [  42.        ,    1.        ,    2.48300004],\n",
       "       [  42.        ,    1.        ,    2.5150001 ],\n",
       "       [  42.        ,    1.        ,    2.54500008],\n",
       "       [  42.        ,    1.        ,    2.727     ],\n",
       "       [  42.        ,    1.        ,    2.77099991],\n",
       "       [  42.        ,    1.        ,    2.77399993],\n",
       "       [  42.        ,    1.        ,    2.78200006],\n",
       "       [  42.        ,    1.        ,    2.80200005],\n",
       "       [  42.        ,    1.        ,    2.852     ],\n",
       "       [  42.        ,    1.        ,    2.86199999],\n",
       "       [  72.        ,    1.        ,    0.47799999],\n",
       "       [  72.        ,    1.        ,    0.551     ],\n",
       "       [  72.        ,    1.        ,    0.56      ],\n",
       "       [  72.        ,    1.        ,    0.583     ],\n",
       "       [  72.        ,    1.        ,    0.59200001],\n",
       "       [  72.        ,    1.        ,    0.616     ],\n",
       "       [  72.        ,    1.        ,    0.634     ],\n",
       "       [  72.        ,    1.        ,    0.63700002],\n",
       "       [  72.        ,    1.        ,    0.63999999],\n",
       "       [  72.        ,    1.        ,    0.64399999],\n",
       "       [  72.        ,    1.        ,    0.66600001],\n",
       "       [  72.        ,    1.        ,    0.68900001],\n",
       "       [  72.        ,    1.        ,    0.75999999],\n",
       "       [  72.        ,    1.        ,    0.77999997],\n",
       "       [  72.        ,    1.        ,    0.79400003],\n",
       "       [  72.        ,    1.        ,    0.79799998],\n",
       "       [  72.        ,    1.        ,    0.87099999],\n",
       "       [  72.        ,    1.        ,    0.90700001],\n",
       "       [  72.        ,    1.        ,    0.92699999],\n",
       "       [  72.        ,    1.        ,    0.96799999],\n",
       "       [  72.        ,    1.        ,    0.97500002],\n",
       "       [  72.        ,    1.        ,    1.01999998],\n",
       "       [  72.        ,    1.        ,    1.06099999],\n",
       "       [  72.        ,    1.        ,    1.06900001],\n",
       "       [  72.        ,    1.        ,    1.12800002],\n",
       "       [  72.        ,    1.        ,    1.15699995],\n",
       "       [  72.        ,    1.        ,    1.18099999],\n",
       "       [  72.        ,    1.        ,    1.18700004],\n",
       "       [  72.        ,    1.        ,    1.22399998],\n",
       "       [  72.        ,    1.        ,    1.23199999],\n",
       "       [  72.        ,    1.        ,    1.28100002],\n",
       "       [  72.        ,    1.        ,    1.29299998],\n",
       "       [  72.        ,    1.        ,    1.30299997],\n",
       "       [  72.        ,    1.        ,    1.30499995],\n",
       "       [  72.        ,    1.        ,    1.34500003],\n",
       "       [  72.        ,    1.        ,    1.37      ],\n",
       "       [  72.        ,    1.        ,    1.40600002],\n",
       "       [  72.        ,    1.        ,    1.41400003],\n",
       "       [  72.        ,    1.        ,    1.43799996],\n",
       "       [  72.        ,    1.        ,    1.45099998],\n",
       "       [  72.        ,    1.        ,    1.47899997],\n",
       "       [  72.        ,    1.        ,    1.48500001],\n",
       "       [  72.        ,    1.        ,    1.50600004],\n",
       "       [  72.        ,    1.        ,    1.52199996],\n",
       "       [  72.        ,    1.        ,    1.55599999],\n",
       "       [  72.        ,  255.        ,    1.55999994],\n",
       "       [  72.        ,    1.        ,    1.56599998],\n",
       "       [  72.        ,  255.        ,    1.57599998],\n",
       "       [  72.        ,  255.        ,    1.58599997],\n",
       "       [  72.        ,    1.        ,    1.60300004],\n",
       "       [  72.        ,    1.        ,    1.61699998],\n",
       "       [  72.        ,    1.        ,    1.62600005],\n",
       "       [  72.        ,    1.        ,    1.65900004],\n",
       "       [  72.        ,    1.        ,    1.69400001],\n",
       "       [  72.        ,    1.        ,    1.71200001],\n",
       "       [  72.        ,    1.        ,    1.73000002],\n",
       "       [  72.        ,    1.        ,    1.74300003],\n",
       "       [  72.        ,    1.        ,    1.78499997],\n",
       "       [  72.        ,    1.        ,    1.79999995],\n",
       "       [  72.        ,    1.        ,    1.81400001],\n",
       "       [  72.        ,    1.        ,    1.84000003],\n",
       "       [  72.        ,  255.        ,    1.86800003],\n",
       "       [  72.        ,    1.        ,    1.88900006],\n",
       "       [  72.        ,    1.        ,    1.903     ],\n",
       "       [  72.        ,  255.        ,    1.97500002],\n",
       "       [  72.        ,    1.        ,    1.98199999],\n",
       "       [  72.        ,    1.        ,    2.00300002],\n",
       "       [  72.        ,    1.        ,    2.05200005],\n",
       "       [  72.        ,    1.        ,    2.06599998],\n",
       "       [  72.        ,    1.        ,    2.10700011],\n",
       "       [  72.        ,    1.        ,    2.11599994],\n",
       "       [  72.        ,    1.        ,    2.15100002],\n",
       "       [  72.        ,    1.        ,    2.22000003],\n",
       "       [  72.        ,    1.        ,    2.28999996],\n",
       "       [  72.        ,    1.        ,    2.37800002],\n",
       "       [  72.        ,    1.        ,    2.47199988],\n",
       "       [  72.        ,    1.        ,    2.48799992],\n",
       "       [  72.        ,    1.        ,    2.50600004],\n",
       "       [  72.        ,    1.        ,    2.62700009],\n",
       "       [  72.        ,    1.        ,    2.64299989],\n",
       "       [  72.        ,    1.        ,    2.75200009],\n",
       "       [  72.        ,    1.        ,    2.76200008],\n",
       "       [  72.        ,    1.        ,    2.77200007],\n",
       "       [  72.        ,  255.        ,    2.7750001 ],\n",
       "       [  20.        ,    3.        ,    2.03900003],\n",
       "       [  20.        ,    3.        ,    2.04699993],\n",
       "       [  20.        ,    1.        ,    2.05299997],\n",
       "       [  20.        ,    3.        ,    2.06399989],\n",
       "       [  20.        ,    1.        ,    2.11400008],\n",
       "       [  20.        ,  255.        ,    2.25300002],\n",
       "       [  20.        ,    3.        ,    2.25699997],\n",
       "       [  20.        ,    1.        ,    2.27900004],\n",
       "       [  20.        ,  255.        ,    2.68899989],\n",
       "       [  20.        ,  255.        ,    2.84500003],\n",
       "       [  20.        ,    1.        ,    2.85400009]], dtype=float32), array([[ 90.]], dtype=float32))],\n",
       "       [ (array([[  7.80000000e+01,   0.00000000e+00,  -1.08000003e-01],\n",
       "       [  9.40000000e+01,   1.00000000e+00,  -1.08999997e-01],\n",
       "       [  3.50000000e+01,   2.55000000e+02,  -1.04999997e-01],\n",
       "       ..., \n",
       "       [  1.90000000e+01,   1.00000000e+00,   2.61400008e+00],\n",
       "       [  2.20000000e+01,   1.00000000e+00,   2.61800003e+00],\n",
       "       [  8.00000000e+00,   1.00000000e+00,   2.61999989e+00]], dtype=float32), array([[ 0.]], dtype=float32))],\n",
       "       [ (array([[ 22.        ,   1.        ,  -0.345     ],\n",
       "       [ 36.        ,   1.        ,  -0.34400001],\n",
       "       [ 78.        ,   1.        ,  -0.34099999],\n",
       "       ..., \n",
       "       [ 22.        ,   1.        ,   2.64299989],\n",
       "       [ 38.        ,   2.        ,   2.6500001 ],\n",
       "       [ 78.        ,   1.        ,   2.6500001 ]], dtype=float32), array([[ 0.]], dtype=float32))],\n",
       "       ..., \n",
       "       [ (array([[  80.        ,    1.        ,   -0.435     ],\n",
       "       [  84.        ,  255.        ,   -0.428     ],\n",
       "       [  84.        ,    1.        ,   -0.42399999],\n",
       "       ..., \n",
       "       [  39.        ,    1.        ,    2.60599995],\n",
       "       [  75.        ,    1.        ,    2.60899997],\n",
       "       [  60.        ,    1.        ,    2.61599994]], dtype=float32), array([[ 0.]], dtype=float32))],\n",
       "       [ (array([[  75.        ,    0.        ,   -0.5       ],\n",
       "       [  72.        ,    1.        ,   -0.49599999],\n",
       "       [  71.        ,    1.        ,   -0.495     ],\n",
       "       ..., \n",
       "       [  14.        ,  255.        ,    2.6170001 ],\n",
       "       [  19.        ,    1.        ,    2.62899995],\n",
       "       [  42.        ,    1.        ,    2.63000011]], dtype=float32), array([[ 90.]], dtype=float32))],\n",
       "       [ (array([[  35.        ,    1.        ,   -0.5       ],\n",
       "       [   1.        ,  255.        ,   -0.49900001],\n",
       "       [  49.        ,    1.        ,   -0.49900001],\n",
       "       ..., \n",
       "       [  18.        ,    1.        ,    2.63400006],\n",
       "       [  60.        ,    1.        ,    2.63599992],\n",
       "       [  42.        ,    1.        ,    2.63800001]], dtype=float32), array([[ 0.]], dtype=float32))]],\n",
       "      dtype=[('nev', 'O'), ('ori', 'O')])"
      ]
     },
     "execution_count": 7,
     "metadata": {},
     "output_type": "execute_result"
    }
   ],
   "source": [
    "matIn['DATA']"
   ]
  },
  {
   "cell_type": "markdown",
   "metadata": {
    "deletable": true,
    "editable": true
   },
   "source": [
    "That structure is called DATA. You can glean its properties by typing DATA in MATLAB (or matIn[‘DATA’] in Python. \n",
    "* If you do so, you’ll see that it contains 2300 rows with two fields: nev and ori. \n",
    "* Each row \n",
    "    - represents a trial. \n",
    "* ori \n",
    "    - represents the orientation of the grating for a given trial and\n",
    "* nev \n",
    "    - is a matrix that represents the spiking information. \n",
    "    - Each trial contains its own nev matrix. \n",
    "    - Rows \n",
    "        - in the nev matrix represent individual spikes per trial, one for each spike during the trial. \n",
    "    - Column 1 \n",
    "        - represents the electrode on which the spike was detected,\n",
    "    - column 3 \n",
    "        - represents the corresponding time since the beginning of the trial at which the spike was detected, and \n",
    "    - column 2 \n",
    "        - represents a “sort code.” \n",
    "        - The sort code is a number from 0 to 255. \n",
    "        - Neural data, in particular data from electrode arrays, have to be carefully sorted before they can be processed further. \n",
    "        - The reason for this is that each electrode records the voltage at the tip at a given time, but this voltage is the result of the spiking activity of an unknown number of neurons in an unknown con guration around the electrode tip (Lewicki, 1998). \n",
    "        - Thus, spike sorting—resolving the individual sources that all contribute to the same voltage sum—is fundamentally an inverse problem and remains rather tricky, despite best attempts at solving it (Pillow, Shlens, Chichilnisky, & Simoncelli, 2013). \n",
    "        - Here, take solace in the fact that spike sorting has already been done, and done carefully. \n",
    "        - This is indicated by the sort codes assigned to each spike.\n",
    "        - Sort codes 0 and 255 represent noise (accidental threshold crossings or threshold crossings for artificial reasons such as animal movement or instrument noise) and will need to be discarded from further analysis. \n",
    "        - Other sort codes –1 to 254 represent units (where one unit is thought to be nearly one neuron) that were assigned to different clusters. \n",
    "        - If a spike has the same sort code, it was discharged from the same neural cluster (either multiunit or the same single unit)."
   ]
  },
  {
   "cell_type": "markdown",
   "metadata": {
    "deletable": true,
    "editable": true
   },
   "source": [
    "* Structures are nested (or hierarchical) and labeled matrices. \n",
    "* Each  field has \n",
    "    - a label (such as ori) and \n",
    "    - a content (could be matrices of numbers or characters).\n",
    "* Structures can contain arbitrary numbers of levels. \n",
    "* Structures make for great storage units, but doing computations on them can be challenging, which is why we’ll need further processing steps (particularly step 3, formatting) of our canonical data analysis cascade. \n",
    "* Fields are accessed by typing a period or dot. \n",
    "* If you don’t remember the  eld names, you can tab-complete them. \n",
    "* For instance, \n",
    "    - to access the orientation of the 57th trial in MATLAB, \n",
    "        - type DATA(57).ori \n",
    "            - the output indicates that the orientation of the grating was zero degrees for that trial. \n",
    "    - If you want to know the spiking activity from trial 210, \n",
    "        - type DATA(210).nev \n",
    "            - to reveal that a brisk 1747 action potentials from a wide range of channels were discharged during that trial."
   ]
  },
  {
   "cell_type": "code",
   "execution_count": 11,
   "metadata": {
    "collapsed": true,
    "deletable": true,
    "editable": true
   },
   "outputs": [],
   "source": [
    "# Pseudocode\n",
    "# Determine several parameters \n",
    "#   that will be used in later analysis from the data itself, \n",
    "#     such as \n",
    "#       the number of trials, \n",
    "#       the grating\n",
    "#       orientation and \n",
    "#       number of grating orientations,"
   ]
  },
  {
   "cell_type": "code",
   "execution_count": 12,
   "metadata": {
    "collapsed": true,
    "deletable": true,
    "editable": true
   },
   "outputs": [],
   "source": [
    "numTrials = len(matIn['DATA'])\n",
    "allOris=[matIn['DATA'][_][0][1][0][0] for _ in range(numTrials)] #intermediate variable\n",
    "ori = list(set(allOris))\n",
    "numOri = len(ori)\n",
    "trialIndices = defaultdict(list)"
   ]
  },
  {
   "cell_type": "code",
   "execution_count": null,
   "metadata": {
    "collapsed": false,
    "deletable": true,
    "editable": true
   },
   "outputs": [],
   "source": [
    "for _ in range(numTrials) :\n",
    "    print(matIn['DATA'][1])"
   ]
  },
  {
   "cell_type": "code",
   "execution_count": 14,
   "metadata": {
    "collapsed": false,
    "deletable": true,
    "editable": true
   },
   "outputs": [
    {
     "data": {
      "text/plain": [
       "2300"
      ]
     },
     "execution_count": 14,
     "metadata": {},
     "output_type": "execute_result"
    }
   ],
   "source": [
    "numTrials"
   ]
  },
  {
   "cell_type": "code",
   "execution_count": 13,
   "metadata": {
    "collapsed": false,
    "deletable": true,
    "editable": true
   },
   "outputs": [
    {
     "data": {
      "text/plain": [
       "2300"
      ]
     },
     "execution_count": 13,
     "metadata": {},
     "output_type": "execute_result"
    }
   ],
   "source": [
    "numTrials"
   ]
  },
  {
   "cell_type": "code",
   "execution_count": 15,
   "metadata": {
    "collapsed": false,
    "deletable": true,
    "editable": true
   },
   "outputs": [
    {
     "data": {
      "text/plain": [
       "[90.0, 0.0, 0.0, 90.0, 90.0, 0.0, 0.0, 90.0, 0.0, 90.0]"
      ]
     },
     "execution_count": 15,
     "metadata": {},
     "output_type": "execute_result"
    }
   ],
   "source": [
    "allOris[:10]"
   ]
  },
  {
   "cell_type": "code",
   "execution_count": 16,
   "metadata": {
    "collapsed": false,
    "deletable": true,
    "editable": true
   },
   "outputs": [
    {
     "data": {
      "text/plain": [
       "[0.0, 90.0]"
      ]
     },
     "execution_count": 16,
     "metadata": {},
     "output_type": "execute_result"
    }
   ],
   "source": [
    "ori[:10]"
   ]
  },
  {
   "cell_type": "code",
   "execution_count": 17,
   "metadata": {
    "collapsed": false,
    "deletable": true,
    "editable": true
   },
   "outputs": [
    {
     "data": {
      "text/plain": [
       "2"
      ]
     },
     "execution_count": 17,
     "metadata": {},
     "output_type": "execute_result"
    }
   ],
   "source": [
    "numOri"
   ]
  },
  {
   "cell_type": "code",
   "execution_count": 18,
   "metadata": {
    "collapsed": false,
    "deletable": true,
    "editable": true
   },
   "outputs": [
    {
     "data": {
      "text/plain": [
       "defaultdict(list, {})"
      ]
     },
     "execution_count": 18,
     "metadata": {},
     "output_type": "execute_result"
    }
   ],
   "source": [
    "trialIndices"
   ]
  },
  {
   "cell_type": "markdown",
   "metadata": {
    "deletable": true,
    "editable": true
   },
   "source": [
    "* numTrials \n",
    "    - represents the number of trials and can be gotten simply by counting the number of rows of the DATA structure. \n",
    "* The variable ori \n",
    "    - represents the number of unique grating orientations used in the experiment. \n",
    "    - Here, it was two orientations, 0 and 90, \n",
    "        - but we want to write the code so that it is flexible enough to accommodate different orientations (and different numbers of orientations) in the future, should we receive them. \n",
    "        - To do so, \n",
    "            - we use the function <font color=\"blue\">unique</font> in MATLAB, and <font color=\"blue\">set</font> in Python. \n",
    "            - Each returns an ordered list of all unique orientation values. \n",
    "            - We provide this function with a vector of all orientations from the structure, as you can see in the code above.\n",
    "* trialIndices \n",
    "    - will contain the trial indices in the DATA structure that correspond to a given grating orientation. \n",
    "    - Note that we allocate trialIndices as a cell array in MATLAB, and as a defaultdict (a special kind of dictionary that allows the user to append to values even if the keys do not yet exist) in Python.\n",
    "    - The number of columns of this cell array corresponds to the number of unique orientations. \n",
    "    - The reason we want to allocate it as a dictionary or cell array in POM is because we want to allow for the possibility that not each orientation was presented an equal number of times (although this is the case here). \n",
    "    - For instance, \n",
    "        - if \n",
    "            - one orientation was presented 1200 times and \n",
    "            - the other 1300 times, and \n",
    "            - we represent this as resident matrices of a cell array,\n",
    "            - this is no problem. \n",
    "        - If \n",
    "            - we represented it as a 1150 × 2 matrix (one row for each trial, different orientations in each column), \n",
    "            - we would have to assume that each orientation was presented exactly the same number of times. \n",
    "        - If \n",
    "            - this was off by a single number, \n",
    "            - we could not represent it as a matrix.\n",
    "        - This is an unacceptable degree of rigidity, so in order to make our code more flexible, we represent these indices as a dictionary or cell array from the beginning.\n",
    "    - For now, we are just preallocating them by declaring their structure. If you type trialIndices, you will see that there is nothing in the matrices, but the structure of the cell array itself—a 1 × 2 matrix of matrices has been established in MATLAB, and an empty dictionary in Python: defaultdict(list, {})."
   ]
  },
  {
   "cell_type": "markdown",
   "metadata": {
    "deletable": true,
    "editable": true
   },
   "source": [
    "### Step 2 + 3: Formatting of valid data (which implies the identi cation and elimination of invalid data)"
   ]
  },
  {
   "cell_type": "code",
   "execution_count": null,
   "metadata": {
    "collapsed": true,
    "deletable": true,
    "editable": true
   },
   "outputs": [],
   "source": [
    "# Pseudocode\n",
    "# 2+3: Pruning and Formatting\n",
    "#     Step 1: Identify trial numbers (indices) \n",
    "#             that correspond to a given orientation"
   ]
  },
  {
   "cell_type": "code",
   "execution_count": 19,
   "metadata": {
    "collapsed": true,
    "deletable": true,
    "editable": true
   },
   "outputs": [],
   "source": [
    "for tt in range(numTrials):\n",
    "    for oo in ori:\n",
    "        if allOris[tt] == oo:\n",
    "            trialIndices[oo].append(tt)"
   ]
  },
  {
   "cell_type": "code",
   "execution_count": 21,
   "metadata": {
    "collapsed": false,
    "deletable": true,
    "editable": true
   },
   "outputs": [
    {
     "data": {
      "text/plain": [
       "[0.0, 90.0]"
      ]
     },
     "execution_count": 21,
     "metadata": {},
     "output_type": "execute_result"
    }
   ],
   "source": [
    "list(trialIndices.keys())"
   ]
  },
  {
   "cell_type": "code",
   "execution_count": 23,
   "metadata": {
    "collapsed": false,
    "deletable": true,
    "editable": true
   },
   "outputs": [
    {
     "data": {
      "text/plain": [
       "[1, 2, 5, 6, 8, 10, 13, 15, 16, 18]"
      ]
     },
     "execution_count": 23,
     "metadata": {},
     "output_type": "execute_result"
    }
   ],
   "source": [
    "trialIndices[0.0][:10]"
   ]
  },
  {
   "cell_type": "code",
   "execution_count": null,
   "metadata": {
    "collapsed": true,
    "deletable": true,
    "editable": true
   },
   "outputs": [],
   "source": [
    "# Pseudocode\n",
    "# 1. Find the indices of spikes that were recorded on \n",
    "#            a given electrode (channel), \n",
    "#               from a given trial and condition (grating orientation)\n",
    "# 2. Use those indices to find spikes \n",
    "#            that were  agged as one kind of noise\n",
    "# 3. Use them again to find spikes \n",
    "#            that were  agged as another kind of noise\n",
    "# 4. Merge the two sets of noise into a big “killset”\n",
    "# 5. Eliminate all indices \n",
    "#            that correspond to noise from the variable \n",
    "#                  that contains spike indices for \n",
    "#                     a given electrode(channel), trial, and condition\n",
    "# 6. Find the corresponding spike times for \n",
    "#            the remaining valid spike indices and \n",
    "#    put them in the large storage structure, the spikeTimes cell array\n",
    "# 7. Loop through all channels (electrodes)\n",
    "# 8. Loop through all conditions (grating orientation types) \n",
    "# 9. Look through all trials of a given type"
   ]
  },
  {
   "cell_type": "code",
   "execution_count": null,
   "metadata": {
    "collapsed": true,
    "deletable": true,
    "editable": true
   },
   "outputs": [],
   "source": [
    "# 코딩!!!\n",
    "\n"
   ]
  },
  {
   "cell_type": "markdown",
   "metadata": {
    "deletable": true,
    "editable": true
   },
   "source": [
    "-------------------------------------------"
   ]
  },
  {
   "cell_type": "markdown",
   "metadata": {
    "deletable": true,
    "editable": true
   },
   "source": [
    "# 다음에 계속"
   ]
  },
  {
   "cell_type": "markdown",
   "metadata": {
    "deletable": true,
    "editable": true
   },
   "source": [
    "# 참고 \n",
    "* [1] Neural Data Science: A Primer with MATLAB and Python - https://www.amazon.com/Neural-Data-Science-MATLAB®-PythonTM/dp/0128040432/\n",
    "* [2] Chapter Files - https://www.elsevier.com/books-and-journals/book-companion/9780128040430/chapter-files#Chapter%20Files"
   ]
  },
  {
   "cell_type": "code",
   "execution_count": null,
   "metadata": {
    "collapsed": true,
    "deletable": true,
    "editable": true
   },
   "outputs": [],
   "source": []
  }
 ],
 "metadata": {
  "kernelspec": {
   "display_name": "Python 3",
   "language": "python",
   "name": "python3"
  },
  "language_info": {
   "codemirror_mode": {
    "name": "ipython",
    "version": 3
   },
   "file_extension": ".py",
   "mimetype": "text/x-python",
   "name": "python",
   "nbconvert_exporter": "python",
   "pygments_lexer": "ipython3",
   "version": "3.5.2"
  }
 },
 "nbformat": 4,
 "nbformat_minor": 2
}
