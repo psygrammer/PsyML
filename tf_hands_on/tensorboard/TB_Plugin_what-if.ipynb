{
 "cells": [
  {
   "cell_type": "markdown",
   "metadata": {},
   "source": [
    "# Google What-If Tool"
   ]
  },
  {
   "cell_type": "markdown",
   "metadata": {},
   "source": [
    "* 싸이그래머 / 싸이ML : 핸즈온ML \n",
    "* 김무성"
   ]
  },
  {
   "cell_type": "markdown",
   "metadata": {},
   "source": [
    "# 소개\n",
    "* 구글 블로그 - https://ai.googleblog.com/2018/09/the-what-if-tool-code-free-probing-of.html"
   ]
  },
  {
   "cell_type": "code",
   "execution_count": 3,
   "metadata": {
    "collapsed": false
   },
   "outputs": [
    {
     "data": {
      "text/html": [
       "<iframe width=\"560\" height=\"315\" src=\"https://www.youtube.com/embed/hpYl8WLYeKo\" frameborder=\"0\" allow=\"autoplay; encrypted-media\" allowfullscreen></iframe>"
      ],
      "text/plain": [
       "<IPython.core.display.HTML object>"
      ]
     },
     "execution_count": 3,
     "metadata": {},
     "output_type": "execute_result"
    }
   ],
   "source": [
    "from IPython.display import HTML\n",
    "\n",
    "# Youtube\n",
    "HTML('<iframe width=\"560\" height=\"315\" src=\"https://www.youtube.com/embed/hpYl8WLYeKo\" frameborder=\"0\" allow=\"autoplay; encrypted-media\" allowfullscreen></iframe>')\n"
   ]
  },
  {
   "cell_type": "markdown",
   "metadata": {},
   "source": [
    "# 공식 페이지\n",
    "* https://pair-code.github.io/what-if-tool/\n",
    "    \n",
    "# 공식 github\n",
    "* https://github.com/tensorflow/tensorboard/tree/master/tensorboard/plugins/interactive_inference"
   ]
  },
  {
   "cell_type": "markdown",
   "metadata": {},
   "source": [
    "# Demo data\n",
    "\n",
    "* [링크]( https://github.com/tensorflow/tensorboard/tree/master/tensorboard/plugins/interactive_inference/tf_interactive_inference_dashboard/demo/data)\n",
    "    - 데모 관련 데이터와 설정 파일이 들어있는 디렉토리\n",
    "\n",
    "* [Demo : iris](https://github.com/tensorflow/tensorboard/tree/master/tensorboard/plugins/interactive_inference/tf_interactive_inference_dashboard/demo/data/iris) <- iris 예제가 들어있다. 총 4개의 파일이 있음.\n",
    "    * [iris.json](https://raw.githubusercontent.com/tensorflow/tensorboard/master/tensorboard/plugins/interactive_inference/tf_interactive_inference_dashboard/demo/data/iris/iris.json) <- iris 데이터 \n",
    "    * [model.json](https://raw.githubusercontent.com/tensorflow/tensorboard/master/tensorboard/plugins/interactive_inference/tf_interactive_inference_dashboard/demo/data/iris/model.json) <- 학습된 iris 분류 모델"
   ]
  },
  {
   "cell_type": "markdown",
   "metadata": {},
   "source": [
    "# 설치 & 실행 \n",
    "\n",
    "1. 텐서보드 설치 (버전 > 1.11)\n",
    "```shell\n",
    "pip install --upgrade tensorflow (혹은 pip3, anancoda)\n",
    "```\n",
    "\n",
    "2. 텐서보드 실행\n",
    "```shell\n",
    "tensorboard --logdir=your_log_dir_path\n",
    "```\n",
    "\n",
    "3. What-if tool 실행\n",
    "    * http://localhost:6006/#whatif"
   ]
  },
  {
   "cell_type": "markdown",
   "metadata": {},
   "source": [
    "# 나만의 모델과 데이터를 집어넣으려면?\n",
    "\n",
    "* 다음 시간에 ..."
   ]
  }
 ],
 "metadata": {
  "kernelspec": {
   "display_name": "Python 3",
   "language": "python",
   "name": "python3"
  },
  "language_info": {
   "codemirror_mode": {
    "name": "ipython",
    "version": 3
   },
   "file_extension": ".py",
   "mimetype": "text/x-python",
   "name": "python",
   "nbconvert_exporter": "python",
   "pygments_lexer": "ipython3",
   "version": "3.5.2"
  }
 },
 "nbformat": 4,
 "nbformat_minor": 2
}
